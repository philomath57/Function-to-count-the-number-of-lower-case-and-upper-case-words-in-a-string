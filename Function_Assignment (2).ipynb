{
 "cells": [
  {
   "cell_type": "code",
   "execution_count": 15,
   "id": "d9a72f7e",
   "metadata": {},
   "outputs": [
    {
     "name": "stdout",
     "output_type": "stream",
     "text": [
      "Number of upper case words are 3 and lower case words are 12\n"
     ]
    }
   ],
   "source": [
    "def func(string):\n",
    "    count_upper = 0\n",
    "    count_lower = 0\n",
    "    for i in range (len(string)):\n",
    "        if string[i].isupper():\n",
    "            count_upper += 1\n",
    "        elif string[i].islower():\n",
    "            count_lower += 1\n",
    "        else:\n",
    "            count_upper = count_upper\n",
    "            count_lower = count_lower\n",
    "    print(f\"Number of upper case words are {count_upper} and lower case words are {count_lower}\")\n",
    "func('The quick Brow Fox')\n",
    "    "
   ]
  },
  {
   "cell_type": "code",
   "execution_count": null,
   "id": "a8d2541e",
   "metadata": {},
   "outputs": [],
   "source": []
  }
 ],
 "metadata": {
  "kernelspec": {
   "display_name": "Python 3 (ipykernel)",
   "language": "python",
   "name": "python3"
  },
  "language_info": {
   "codemirror_mode": {
    "name": "ipython",
    "version": 3
   },
   "file_extension": ".py",
   "mimetype": "text/x-python",
   "name": "python",
   "nbconvert_exporter": "python",
   "pygments_lexer": "ipython3",
   "version": "3.9.7"
  }
 },
 "nbformat": 4,
 "nbformat_minor": 5
}
